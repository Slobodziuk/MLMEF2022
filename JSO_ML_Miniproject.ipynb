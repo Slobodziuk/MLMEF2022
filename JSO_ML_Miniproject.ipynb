{
 "cells": [
  {
   "cell_type": "markdown",
   "metadata": {},
   "source": [
    "# JSO Machine Learning Miniproject\n",
    "\n",
    "For this project "
   ]
  },
  {
   "cell_type": "code",
   "execution_count": 9,
   "metadata": {},
   "outputs": [],
   "source": [
    "#Libraries\n",
    "#Visualisation and data management\n",
    "import pandas as pd\n",
    "import matplotlib.pyplot as plt\n",
    "import numpy as np\n",
    "import seaborn as sns\n",
    "from datetime import datetime\n",
    "#Linear regression models\n",
    "from sklearn.linear_model import LinearRegression\n",
    "from sklearn.metrics import r2_score, mean_squared_error, mean_absolute_error\n",
    "from sklearn.model_selection import train_test_split"
   ]
  },
  {
   "attachments": {},
   "cell_type": "markdown",
   "metadata": {},
   "source": [
    "🔢 \n",
    "# Load the dataset from kaggle in the local folder\n",
    "Using Pandas we load the complete dataset into a master datafram in which we can pull whatever data wee need."
   ]
  },
  {
   "cell_type": "code",
   "execution_count": 2,
   "metadata": {},
   "outputs": [
    {
     "data": {
      "text/html": [
       "<div>\n",
       "<style scoped>\n",
       "    .dataframe tbody tr th:only-of-type {\n",
       "        vertical-align: middle;\n",
       "    }\n",
       "\n",
       "    .dataframe tbody tr th {\n",
       "        vertical-align: top;\n",
       "    }\n",
       "\n",
       "    .dataframe thead th {\n",
       "        text-align: right;\n",
       "    }\n",
       "</style>\n",
       "<table border=\"1\" class=\"dataframe\">\n",
       "  <thead>\n",
       "    <tr style=\"text-align: right;\">\n",
       "      <th></th>\n",
       "      <th>date</th>\n",
       "      <th>country</th>\n",
       "      <th>city</th>\n",
       "      <th>Latitude</th>\n",
       "      <th>Longitude</th>\n",
       "      <th>tavg</th>\n",
       "      <th>tmin</th>\n",
       "      <th>tmax</th>\n",
       "      <th>wdir</th>\n",
       "      <th>wspd</th>\n",
       "      <th>pres</th>\n",
       "    </tr>\n",
       "  </thead>\n",
       "  <tbody>\n",
       "    <tr>\n",
       "      <th>0</th>\n",
       "      <td>21-07-2018</td>\n",
       "      <td>Abkhazia</td>\n",
       "      <td>Sukhumi</td>\n",
       "      <td>43.001525</td>\n",
       "      <td>41.023415</td>\n",
       "      <td>23.4</td>\n",
       "      <td>20.9</td>\n",
       "      <td>25.5</td>\n",
       "      <td>329.0</td>\n",
       "      <td>9.3</td>\n",
       "      <td>1009.6</td>\n",
       "    </tr>\n",
       "    <tr>\n",
       "      <th>1</th>\n",
       "      <td>22-07-2018</td>\n",
       "      <td>Abkhazia</td>\n",
       "      <td>Sukhumi</td>\n",
       "      <td>43.001525</td>\n",
       "      <td>41.023415</td>\n",
       "      <td>23.5</td>\n",
       "      <td>21.0</td>\n",
       "      <td>25.7</td>\n",
       "      <td>337.0</td>\n",
       "      <td>9.4</td>\n",
       "      <td>1010.0</td>\n",
       "    </tr>\n",
       "    <tr>\n",
       "      <th>2</th>\n",
       "      <td>23-07-2018</td>\n",
       "      <td>Abkhazia</td>\n",
       "      <td>Sukhumi</td>\n",
       "      <td>43.001525</td>\n",
       "      <td>41.023415</td>\n",
       "      <td>23.5</td>\n",
       "      <td>21.1</td>\n",
       "      <td>25.5</td>\n",
       "      <td>41.0</td>\n",
       "      <td>8.2</td>\n",
       "      <td>1007.7</td>\n",
       "    </tr>\n",
       "    <tr>\n",
       "      <th>3</th>\n",
       "      <td>24-07-2018</td>\n",
       "      <td>Abkhazia</td>\n",
       "      <td>Sukhumi</td>\n",
       "      <td>43.001525</td>\n",
       "      <td>41.023415</td>\n",
       "      <td>24.3</td>\n",
       "      <td>20.8</td>\n",
       "      <td>27.1</td>\n",
       "      <td>10.0</td>\n",
       "      <td>9.3</td>\n",
       "      <td>1004.4</td>\n",
       "    </tr>\n",
       "    <tr>\n",
       "      <th>4</th>\n",
       "      <td>25-07-2018</td>\n",
       "      <td>Abkhazia</td>\n",
       "      <td>Sukhumi</td>\n",
       "      <td>43.001525</td>\n",
       "      <td>41.023415</td>\n",
       "      <td>26.5</td>\n",
       "      <td>22.7</td>\n",
       "      <td>30.0</td>\n",
       "      <td>9.0</td>\n",
       "      <td>9.7</td>\n",
       "      <td>1002.0</td>\n",
       "    </tr>\n",
       "  </tbody>\n",
       "</table>\n",
       "</div>"
      ],
      "text/plain": [
       "         date   country     city   Latitude  Longitude  tavg  tmin  tmax  \\\n",
       "0  21-07-2018  Abkhazia  Sukhumi  43.001525  41.023415  23.4  20.9  25.5   \n",
       "1  22-07-2018  Abkhazia  Sukhumi  43.001525  41.023415  23.5  21.0  25.7   \n",
       "2  23-07-2018  Abkhazia  Sukhumi  43.001525  41.023415  23.5  21.1  25.5   \n",
       "3  24-07-2018  Abkhazia  Sukhumi  43.001525  41.023415  24.3  20.8  27.1   \n",
       "4  25-07-2018  Abkhazia  Sukhumi  43.001525  41.023415  26.5  22.7  30.0   \n",
       "\n",
       "    wdir  wspd    pres  \n",
       "0  329.0   9.3  1009.6  \n",
       "1  337.0   9.4  1010.0  \n",
       "2   41.0   8.2  1007.7  \n",
       "3   10.0   9.3  1004.4  \n",
       "4    9.0   9.7  1002.0  "
      ]
     },
     "execution_count": 2,
     "metadata": {},
     "output_type": "execute_result"
    }
   ],
   "source": [
    "dfMaster = pd.read_csv('daily_weather_data.csv')\n",
    "dfMaster.dropna(inplace=True)\n",
    "dfMaster.head()"
   ]
  },
  {
   "attachments": {},
   "cell_type": "markdown",
   "metadata": {},
   "source": [
    "🔢\n",
    "# Copy data\n",
    "The needed data is copied onto a new dataframe and reset so the new dataframe begins at 0 and not whatever data entry point the needed data started at.\n",
    "This means that instead of starting at 36356 we begin at 0. "
   ]
  },
  {
   "cell_type": "code",
   "execution_count": 3,
   "metadata": {},
   "outputs": [
    {
     "data": {
      "text/html": [
       "<div>\n",
       "<style scoped>\n",
       "    .dataframe tbody tr th:only-of-type {\n",
       "        vertical-align: middle;\n",
       "    }\n",
       "\n",
       "    .dataframe tbody tr th {\n",
       "        vertical-align: top;\n",
       "    }\n",
       "\n",
       "    .dataframe thead th {\n",
       "        text-align: right;\n",
       "    }\n",
       "</style>\n",
       "<table border=\"1\" class=\"dataframe\">\n",
       "  <thead>\n",
       "    <tr style=\"text-align: right;\">\n",
       "      <th></th>\n",
       "      <th>date</th>\n",
       "      <th>country</th>\n",
       "      <th>city</th>\n",
       "      <th>Latitude</th>\n",
       "      <th>Longitude</th>\n",
       "      <th>tavg</th>\n",
       "      <th>tmin</th>\n",
       "      <th>tmax</th>\n",
       "      <th>wdir</th>\n",
       "      <th>wspd</th>\n",
       "      <th>pres</th>\n",
       "    </tr>\n",
       "  </thead>\n",
       "  <tbody>\n",
       "    <tr>\n",
       "      <th>0</th>\n",
       "      <td>01-01-2018</td>\n",
       "      <td>Denmark</td>\n",
       "      <td>Copenhagen</td>\n",
       "      <td>55.676097</td>\n",
       "      <td>12.568337</td>\n",
       "      <td>5.6</td>\n",
       "      <td>4.5</td>\n",
       "      <td>6.8</td>\n",
       "      <td>213.0</td>\n",
       "      <td>27.5</td>\n",
       "      <td>992.5</td>\n",
       "    </tr>\n",
       "    <tr>\n",
       "      <th>1</th>\n",
       "      <td>02-01-2018</td>\n",
       "      <td>Denmark</td>\n",
       "      <td>Copenhagen</td>\n",
       "      <td>55.676097</td>\n",
       "      <td>12.568337</td>\n",
       "      <td>4.3</td>\n",
       "      <td>3.7</td>\n",
       "      <td>5.0</td>\n",
       "      <td>222.0</td>\n",
       "      <td>17.0</td>\n",
       "      <td>1001.7</td>\n",
       "    </tr>\n",
       "    <tr>\n",
       "      <th>2</th>\n",
       "      <td>03-01-2018</td>\n",
       "      <td>Denmark</td>\n",
       "      <td>Copenhagen</td>\n",
       "      <td>55.676097</td>\n",
       "      <td>12.568337</td>\n",
       "      <td>4.1</td>\n",
       "      <td>2.0</td>\n",
       "      <td>5.2</td>\n",
       "      <td>166.0</td>\n",
       "      <td>27.2</td>\n",
       "      <td>985.2</td>\n",
       "    </tr>\n",
       "    <tr>\n",
       "      <th>3</th>\n",
       "      <td>04-01-2018</td>\n",
       "      <td>Denmark</td>\n",
       "      <td>Copenhagen</td>\n",
       "      <td>55.676097</td>\n",
       "      <td>12.568337</td>\n",
       "      <td>2.5</td>\n",
       "      <td>1.2</td>\n",
       "      <td>3.9</td>\n",
       "      <td>240.0</td>\n",
       "      <td>12.2</td>\n",
       "      <td>986.7</td>\n",
       "    </tr>\n",
       "    <tr>\n",
       "      <th>4</th>\n",
       "      <td>05-01-2018</td>\n",
       "      <td>Denmark</td>\n",
       "      <td>Copenhagen</td>\n",
       "      <td>55.676097</td>\n",
       "      <td>12.568337</td>\n",
       "      <td>2.7</td>\n",
       "      <td>1.9</td>\n",
       "      <td>3.4</td>\n",
       "      <td>338.0</td>\n",
       "      <td>11.4</td>\n",
       "      <td>990.5</td>\n",
       "    </tr>\n",
       "  </tbody>\n",
       "</table>\n",
       "</div>"
      ],
      "text/plain": [
       "         date  country        city   Latitude  Longitude  tavg  tmin  tmax  \\\n",
       "0  01-01-2018  Denmark  Copenhagen  55.676097  12.568337   5.6   4.5   6.8   \n",
       "1  02-01-2018  Denmark  Copenhagen  55.676097  12.568337   4.3   3.7   5.0   \n",
       "2  03-01-2018  Denmark  Copenhagen  55.676097  12.568337   4.1   2.0   5.2   \n",
       "3  04-01-2018  Denmark  Copenhagen  55.676097  12.568337   2.5   1.2   3.9   \n",
       "4  05-01-2018  Denmark  Copenhagen  55.676097  12.568337   2.7   1.9   3.4   \n",
       "\n",
       "    wdir  wspd    pres  \n",
       "0  213.0  27.5   992.5  \n",
       "1  222.0  17.0  1001.7  \n",
       "2  166.0  27.2   985.2  \n",
       "3  240.0  12.2   986.7  \n",
       "4  338.0  11.4   990.5  "
      ]
     },
     "execution_count": 3,
     "metadata": {},
     "output_type": "execute_result"
    }
   ],
   "source": [
    "#Create a variable containing \"Denmark\" and pass it into the \".isin\" function and copy any values matching into dfDenmark dataframe\n",
    "values=['Denmark']\n",
    "dfDenmark = (dfMaster[dfMaster[\"country\"].isin(values)] )\n",
    "#We reset the dataframe so the frame will begin at 0 and not where the needed data is placed in the csv file\n",
    "dfDenmark.reset_index(drop=True, inplace=True)\n",
    "dfDenmark.head()"
   ]
  },
  {
   "attachments": {},
   "cell_type": "markdown",
   "metadata": {},
   "source": [
    "🔢\n",
    "# Remove NaN values\n",
    "By removing NaN values we ensure that they do not add to the model with bad data."
   ]
  },
  {
   "cell_type": "code",
   "execution_count": 4,
   "metadata": {},
   "outputs": [
    {
     "name": "stderr",
     "output_type": "stream",
     "text": [
      "C:\\Users\\Anders\\AppData\\Local\\Temp\\ipykernel_12232\\1775645918.py:1: SettingWithCopyWarning: \n",
      "A value is trying to be set on a copy of a slice from a DataFrame\n",
      "\n",
      "See the caveats in the documentation: https://pandas.pydata.org/pandas-docs/stable/user_guide/indexing.html#returning-a-view-versus-a-copy\n",
      "  dfDenmark.dropna(inplace=True)\n"
     ]
    },
    {
     "data": {
      "text/html": [
       "<div>\n",
       "<style scoped>\n",
       "    .dataframe tbody tr th:only-of-type {\n",
       "        vertical-align: middle;\n",
       "    }\n",
       "\n",
       "    .dataframe tbody tr th {\n",
       "        vertical-align: top;\n",
       "    }\n",
       "\n",
       "    .dataframe thead th {\n",
       "        text-align: right;\n",
       "    }\n",
       "</style>\n",
       "<table border=\"1\" class=\"dataframe\">\n",
       "  <thead>\n",
       "    <tr style=\"text-align: right;\">\n",
       "      <th></th>\n",
       "      <th>date</th>\n",
       "      <th>country</th>\n",
       "      <th>city</th>\n",
       "      <th>Latitude</th>\n",
       "      <th>Longitude</th>\n",
       "      <th>tavg</th>\n",
       "      <th>tmin</th>\n",
       "      <th>tmax</th>\n",
       "      <th>wdir</th>\n",
       "      <th>wspd</th>\n",
       "      <th>pres</th>\n",
       "    </tr>\n",
       "  </thead>\n",
       "  <tbody>\n",
       "    <tr>\n",
       "      <th>0</th>\n",
       "      <td>01-01-2018</td>\n",
       "      <td>Denmark</td>\n",
       "      <td>Copenhagen</td>\n",
       "      <td>55.676097</td>\n",
       "      <td>12.568337</td>\n",
       "      <td>5.6</td>\n",
       "      <td>4.5</td>\n",
       "      <td>6.8</td>\n",
       "      <td>213.0</td>\n",
       "      <td>27.5</td>\n",
       "      <td>992.5</td>\n",
       "    </tr>\n",
       "    <tr>\n",
       "      <th>1</th>\n",
       "      <td>02-01-2018</td>\n",
       "      <td>Denmark</td>\n",
       "      <td>Copenhagen</td>\n",
       "      <td>55.676097</td>\n",
       "      <td>12.568337</td>\n",
       "      <td>4.3</td>\n",
       "      <td>3.7</td>\n",
       "      <td>5.0</td>\n",
       "      <td>222.0</td>\n",
       "      <td>17.0</td>\n",
       "      <td>1001.7</td>\n",
       "    </tr>\n",
       "    <tr>\n",
       "      <th>2</th>\n",
       "      <td>03-01-2018</td>\n",
       "      <td>Denmark</td>\n",
       "      <td>Copenhagen</td>\n",
       "      <td>55.676097</td>\n",
       "      <td>12.568337</td>\n",
       "      <td>4.1</td>\n",
       "      <td>2.0</td>\n",
       "      <td>5.2</td>\n",
       "      <td>166.0</td>\n",
       "      <td>27.2</td>\n",
       "      <td>985.2</td>\n",
       "    </tr>\n",
       "    <tr>\n",
       "      <th>3</th>\n",
       "      <td>04-01-2018</td>\n",
       "      <td>Denmark</td>\n",
       "      <td>Copenhagen</td>\n",
       "      <td>55.676097</td>\n",
       "      <td>12.568337</td>\n",
       "      <td>2.5</td>\n",
       "      <td>1.2</td>\n",
       "      <td>3.9</td>\n",
       "      <td>240.0</td>\n",
       "      <td>12.2</td>\n",
       "      <td>986.7</td>\n",
       "    </tr>\n",
       "    <tr>\n",
       "      <th>4</th>\n",
       "      <td>05-01-2018</td>\n",
       "      <td>Denmark</td>\n",
       "      <td>Copenhagen</td>\n",
       "      <td>55.676097</td>\n",
       "      <td>12.568337</td>\n",
       "      <td>2.7</td>\n",
       "      <td>1.9</td>\n",
       "      <td>3.4</td>\n",
       "      <td>338.0</td>\n",
       "      <td>11.4</td>\n",
       "      <td>990.5</td>\n",
       "    </tr>\n",
       "  </tbody>\n",
       "</table>\n",
       "</div>"
      ],
      "text/plain": [
       "         date  country        city   Latitude  Longitude  tavg  tmin  tmax  \\\n",
       "0  01-01-2018  Denmark  Copenhagen  55.676097  12.568337   5.6   4.5   6.8   \n",
       "1  02-01-2018  Denmark  Copenhagen  55.676097  12.568337   4.3   3.7   5.0   \n",
       "2  03-01-2018  Denmark  Copenhagen  55.676097  12.568337   4.1   2.0   5.2   \n",
       "3  04-01-2018  Denmark  Copenhagen  55.676097  12.568337   2.5   1.2   3.9   \n",
       "4  05-01-2018  Denmark  Copenhagen  55.676097  12.568337   2.7   1.9   3.4   \n",
       "\n",
       "    wdir  wspd    pres  \n",
       "0  213.0  27.5   992.5  \n",
       "1  222.0  17.0  1001.7  \n",
       "2  166.0  27.2   985.2  \n",
       "3  240.0  12.2   986.7  \n",
       "4  338.0  11.4   990.5  "
      ]
     },
     "execution_count": 4,
     "metadata": {},
     "output_type": "execute_result"
    }
   ],
   "source": [
    "dfDenmark.dropna(inplace=True)\n",
    "dfDenmark.head()"
   ]
  },
  {
   "attachments": {},
   "cell_type": "markdown",
   "metadata": {},
   "source": [
    "🔢\n",
    "# Correlation matrix\n",
    "We create a correlationmatrix to see the correlation between different labels. Note that longitude, lattitude and date still are a part of the dataframe. But we are only interested in the labels that makes sense."
   ]
  },
  {
   "cell_type": "code",
   "execution_count": 25,
   "metadata": {},
   "outputs": [
    {
     "name": "stderr",
     "output_type": "stream",
     "text": [
      "C:\\Users\\Anders\\AppData\\Local\\Temp\\ipykernel_12232\\1142576770.py:1: FutureWarning: The default value of numeric_only in DataFrame.corr is deprecated. In a future version, it will default to False. Select only valid columns or specify the value of numeric_only to silence this warning.\n",
      "  df_correlation = dfDenmark.corr()\n"
     ]
    },
    {
     "data": {
      "text/plain": [
       "<AxesSubplot: >"
      ]
     },
     "execution_count": 25,
     "metadata": {},
     "output_type": "execute_result"
    },
    {
     "data": {
      "image/png": "[encoded data removed]",
      "text/plain": [
       "<Figure size 720x720 with 2 Axes>"
      ]
     },
     "metadata": {
      "needs_background": "light"
     },
     "output_type": "display_data"
    }
   ],
   "source": [
    "df_correlation = dfDenmark.corr()\n",
    "f, ax = plt.subplots(figsize=(10,10))\n",
    "sns.heatmap(df_correlation)\n"
   ]
  },
  {
   "attachments": {},
   "cell_type": "markdown",
   "metadata": {},
   "source": [
    "📈\n",
    "# Create the model using Multivariable Linear Regression (MLR)\n",
    "By setting the X to our predictors, and y to our response variable we can train a model on our desired test size by creating our x and y train and test values with the train_test_split function. We create a model \"lin_reg_Model\" with the LinearRegression() function and fit our trained x and y values on it. We then test our mean squarred error on our \"X_test\" using the y_test. The correlation makes helps us choose labels that would not create an under or overfit for the model"
   ]
  },
  {
   "cell_type": "code",
   "execution_count": 48,
   "metadata": {},
   "outputs": [
    {
     "name": "stdout",
     "output_type": "stream",
     "text": [
      "Mean error of pressure prediction is:  9.3 (0.92%)\n"
     ]
    }
   ],
   "source": [
    "X = dfDenmark[['wspd', 'tavg', 'tmin', 'tmax', 'wdir']]\n",
    "y = dfDenmark['pres']\n",
    "\n",
    "X_train, X_test, y_train, y_test = train_test_split(X, y, test_size=0.3, random_state=0)\n",
    "lin_reg_Model = LinearRegression()\n",
    "lin_reg_Model.fit(X_train,y_train)\n",
    "\n",
    "pred = lin_reg_Model.predict(X_test)\n",
    "\n",
    "meanSquaredError = np.sqrt(mean_squared_error(y_test,pred))\n",
    "print(f'Mean error of pressure prediction is: {meanSquaredError:4.2} ({meanSquaredError/np.mean(pred)*100:3.2}%)')"
   ]
  },
  {
   "attachments": {},
   "cell_type": "markdown",
   "metadata": {},
   "source": [
    "📈\n",
    "# Printing coeeficients and intercept\n",
    "We use the coeficients to get an idea about the effect on each parameter on their direction of their relationship between the predictor (5 labels) and response (1 label).\n",
    "We also print our intercept to gain knowledge about the pressure if all predictors are det to 0. (note that a 0 on wind direction would equal a direction of North, thus wind direction newer has a real 0 value, unless the wind speed is equal to 0 since no speed means no movement)"
   ]
  },
  {
   "cell_type": "code",
   "execution_count": 6,
   "metadata": {},
   "outputs": [
    {
     "name": "stdout",
     "output_type": "stream",
     "text": [
      "Interceptvalue is equal to:  1020.215042272173\n",
      "Coeficent values are equal to:  [-0.46005738  0.19024671 -1.34732447  0.8907042  -0.00927262]\n"
     ]
    }
   ],
   "source": [
    "modelIntercept = lin_reg_Model.intercept_\n",
    "modelCoefValues = lin_reg_Model.coef_\n",
    "print(\"Interceptvalue is equal to: \", modelIntercept)\n",
    "print(\"Coeficent values are equal to: \", modelCoefValues)"
   ]
  },
  {
   "attachments": {},
   "cell_type": "markdown",
   "metadata": {},
   "source": [
    "📦✅\n",
    "# Using the model\n",
    "By Using the models variable we are able to pass the models prediction to a variable. We use an array of the values as predictors\n",
    "We calculate the average temp adding tmin and tmax together divided by two. This is not ideal since there is 24 hours in one day and we should ideally take the cumulative measurements. The data does not give indications of how the average temperature is measured. Therefore, i have calculated tavg as the average of max and min value of the temperature."
   ]
  },
  {
   "cell_type": "code",
   "execution_count": 7,
   "metadata": {},
   "outputs": [
    {
     "name": "stdout",
     "output_type": "stream",
     "text": [
      "predicted pressure using linear regression is:  [1003.61194819]\n"
     ]
    },
    {
     "name": "stderr",
     "output_type": "stream",
     "text": [
      "c:\\Users\\Anders\\miniforge3\\lib\\site-packages\\sklearn\\base.py:409: UserWarning: X does not have valid feature names, but LinearRegression was fitted with feature names\n",
      "  warnings.warn(\n"
     ]
    }
   ],
   "source": [
    "windspeed = 8\n",
    "tmin = 5\n",
    "tmax = 16\n",
    "averageTemp = (tmin + tmax) / 2\n",
    "windDirection = 180\n",
    "pressure = lin_reg_Model.predict([[windspeed, tmin, tmax, averageTemp, windDirection]])\n",
    "print('predicted pressure using linear regression is: ', pressure)"
   ]
  },
  {
   "attachments": {},
   "cell_type": "markdown",
   "metadata": {},
   "source": [
    "♻️🚀\n",
    "# Export of model\n",
    "We use pickle to dump our model into a file that can be read in our python app. We create our file and use the \"dump\" function to deposit the model in the file. The model is intepretet as an object that is dumped into the file. we use the \"write binary (wb)\" and \"read binary (rb)\" to express that the file should be written and read in binary mode. We pass five \"0\" to the model to ensure that it has been \"dumped\" correct since this should be equal to the intercept value from the model."
   ]
  },
  {
   "cell_type": "code",
   "execution_count": 39,
   "metadata": {},
   "outputs": [
    {
     "name": "stdout",
     "output_type": "stream",
     "text": [
      "<----------- Unit test for correct prediction ----------->\n",
      "Exported Model predict correct value with a difference of  [0.]\n"
     ]
    },
    {
     "name": "stderr",
     "output_type": "stream",
     "text": [
      "c:\\Users\\Anders\\miniforge3\\lib\\site-packages\\sklearn\\base.py:409: UserWarning: X does not have valid feature names, but LinearRegression was fitted with feature names\n",
      "  warnings.warn(\n"
     ]
    }
   ],
   "source": [
    "import pickle\n",
    "model_filename = 'pressurePredictionCopenhagen-Model.pkl'\n",
    "pickle.dump(lin_reg_Model, open(model_filename,'wb'))\n",
    "#Load previoulsy dumped model\n",
    "model = pickle.load(open('pressurePredictionCopenhagen-Model.pkl','rb'))\n",
    "pickleModelPredict = lin_reg_Model.predict([[0,0,0,0,0]])\n",
    "#Simple unittest to ensure the exported model gives the same results as the intercept.\n",
    "if pickleModelPredict == modelIntercept:\n",
    "    print(\"<----------- Unit test for correct prediction ----------->\")\n",
    "    print(\"Exported Model predict correct value with a difference of \", pickleModelPredict-modelIntercept)\n",
    "elif pickleModelPredict != modelIntercept:\n",
    "    print(\"<----------- Unit test for wrong prediction ----------->\")\n",
    "    print(\"Exported Model does not return same value as the intercept with a difference of \", pickleModelPredict-modelIntercept)\n",
    "    "
   ]
  }
 ],
 "metadata": {
  "kernelspec": {
   "display_name": "base",
   "language": "python",
   "name": "python3"
  },
  "language_info": {
   "codemirror_mode": {
    "name": "ipython",
    "version": 3
   },
   "file_extension": ".py",
   "mimetype": "text/x-python",
   "name": "python",
   "nbconvert_exporter": "python",
   "pygments_lexer": "ipython3",
   "version": "3.10.6 | packaged by conda-forge | (main, Aug 22 2022, 20:29:51) [MSC v.1929 64 bit (AMD64)]"
  },
  "orig_nbformat": 4,
  "vscode": {
   "interpreter": {
    "hash": "fddf6afbcb2b3d7f5d973d8e4425fc849c4671de3db319f1be41bbab652da735"
   }
  }
 },
 "nbformat": 4,
 "nbformat_minor": 2
}
